{
  "nbformat": 4,
  "nbformat_minor": 0,
  "metadata": {
    "colab": {
      "provenance": []
    },
    "kernelspec": {
      "name": "python3",
      "display_name": "Python 3"
    },
    "language_info": {
      "name": "python"
    }
  },
  "cells": [
    {
      "cell_type": "markdown",
      "source": [
        "1. What is Object-Oriented Programming (OOP)?\n",
        "\n",
        "    -  Object-Oriented Programming (OOP) is a programming paradigm that organizes software design around objects. Objects contain both data (attributes) and behavior (methods). OOP helps in creating reusable, modular, and scalable code.\n",
        "\n",
        "     Key Features of OOP:\n",
        "\n",
        "       Encapsulation: Bundling data and methods inside a class.\n",
        "Abstraction: Hiding implementation details from users.\n",
        "Inheritance: Allowing a class to inherit attributes/methods from another class.\n",
        "Polymorphism: Allowing different classes to use the same method name differently."
      ],
      "metadata": {
        "id": "48BccdeP1LVh"
      }
    },
    {
      "cell_type": "markdown",
      "source": [
        "2. What is a class in OOP?\n",
        "\n",
        "     - A class is a blueprint for creating objects. It defines the structure and behavior that the objects of the class will have.\n",
        "\n",
        "Example in Python:"
      ],
      "metadata": {
        "id": "ZyC6zGzo1UgN"
      }
    },
    {
      "cell_type": "code",
      "source": [
        "class Car:\n",
        "    def __init__(self, brand, model):\n",
        "        self.brand = brand\n",
        "        self.model = model\n",
        "\n",
        "    def display(self):\n",
        "        print(f\"Car: {self.brand} {self.model}\")\n",
        "\n",
        "car1=Car(\"Toyota\", \"Camry\")\n",
        "car2=Car(\"Ford\", \"Mustang\")\n",
        "\n",
        "car1.display()\n",
        "car2.display()"
      ],
      "metadata": {
        "colab": {
          "base_uri": "https://localhost:8080/"
        },
        "id": "bLCXFPIf1mf6",
        "outputId": "9d66d526-b727-4dcb-a1f4-49fdddc1fc41"
      },
      "execution_count": null,
      "outputs": [
        {
          "output_type": "stream",
          "name": "stdout",
          "text": [
            "Car: Toyota Camry\n",
            "Car: Ford Mustang\n"
          ]
        }
      ]
    },
    {
      "cell_type": "markdown",
      "source": [
        "3. What is an object in OOP?\n",
        "\n",
        "    -  An object is an instance of a class. It has its own unique values for attributes and can execute methods defined in the class.\n",
        "\n",
        "Example:"
      ],
      "metadata": {
        "id": "R8acyP3J4WvT"
      }
    },
    {
      "cell_type": "code",
      "source": [
        "class Car:\n",
        "    def __init__(self, brand, model):\n",
        "        self.brand = brand\n",
        "        self.model = model\n",
        "\n",
        "    def display(self):\n",
        "        print(f\"Car: {self.brand} {self.model}\")\n",
        "\n",
        "car1=Car(\"Toyota\", \"Camry\")   #creating object\n",
        "car2=Car(\"Ford\", \"Mustang\")   #creating object\n",
        "\n",
        "car1.display()\n",
        "car2.display()"
      ],
      "metadata": {
        "colab": {
          "base_uri": "https://localhost:8080/"
        },
        "id": "RwGhDPW_4tx0",
        "outputId": "31c1d314-5a3a-4556-b9ba-bac11fff4219"
      },
      "execution_count": null,
      "outputs": [
        {
          "output_type": "stream",
          "name": "stdout",
          "text": [
            "Car: Toyota Camry\n",
            "Car: Ford Mustang\n"
          ]
        }
      ]
    },
    {
      "cell_type": "markdown",
      "source": [
        "4.Difference Between Abstraction and Encapsulation\n",
        "\n",
        "   - Abstraction is about simplifying complex reality by modeling classes appropriate to the problem. It hides implementation details and exposes only the necessary functionality (for example, through abstract classes or interfaces).\n",
        "   \n",
        "   Encapsulation refers to the bundling of data (attributes) and methods (functions) into a single unit—a class—and controlling access to that data. This is often done using access modifiers (or naming conventions in Python) to protect the internal state of an object.\n"
      ],
      "metadata": {
        "id": "-vRvEHQ97gFy"
      }
    },
    {
      "cell_type": "markdown",
      "source": [
        "5. Dunder Methods in Python\n",
        "\n",
        "  - Dunder (Double Underscore) Methods are special methods in Python that start and end with double underscores (__).\n",
        "\n",
        "   They allow customization of built-in behavior, such as:\n",
        "\n",
        "   __init__() → Constructor (object initialization).\n",
        "\n",
        "   __str__() → String representation of an object.\n",
        "\n",
        "   __add__() → Enables + operator overloading.\n",
        "\n",
        "  __len__() → Returns the length of an object.\n",
        "Example:"
      ],
      "metadata": {
        "id": "4sjSirKMAuem"
      }
    },
    {
      "cell_type": "code",
      "source": [
        "class Example:\n",
        "    def __init__(self, value):\n",
        "        self.value = value\n",
        "\n",
        "    def __str__(self):\n",
        "        return f\"Example({self.value})\"\n",
        "\n",
        "obj = Example(10)\n",
        "print(obj)  # Calls __str__(), Output: Example(10)"
      ],
      "metadata": {
        "colab": {
          "base_uri": "https://localhost:8080/"
        },
        "id": "27ODvH8NDDnJ",
        "outputId": "f48be745-3b32-4469-acb2-051f18afae25"
      },
      "execution_count": null,
      "outputs": [
        {
          "output_type": "stream",
          "name": "stdout",
          "text": [
            "Example(10)\n"
          ]
        }
      ]
    },
    {
      "cell_type": "markdown",
      "source": [
        "6. Concept of Inheritance in OOP\n",
        "\n",
        "    - Inheritance allows a child class to acquire properties and behaviors of a parent class.\n",
        "   Promotes code reusability and establishes a hierarchy.\n",
        "\n",
        "\n",
        "  Types of Inheritance:\n",
        "\n",
        "  Single Inheritance: One parent → One child.\n",
        " Multiple Inheritance: One child inherits from multiple parents.\n",
        " Multilevel Inheritance: Parent → Child → Grandchild.\n",
        " Hierarchical Inheritance: One parent → Multiple children.\n",
        "  Hybrid Inheritance: Combination of different types\n",
        "\n",
        "Example:"
      ],
      "metadata": {
        "id": "vxN1I2eyDS5I"
      }
    },
    {
      "cell_type": "code",
      "source": [
        "class Parent:\n",
        "    def show(self):\n",
        "        print(\"Parent class\")\n",
        "\n",
        "class Child(Parent):\n",
        "    pass  # Inherits show() from Parent\n",
        "\n",
        "obj = Child()\n",
        "obj.show()  # Output: Parent class"
      ],
      "metadata": {
        "colab": {
          "base_uri": "https://localhost:8080/"
        },
        "id": "E9AUmEd1ENXE",
        "outputId": "8afeaddf-5d88-47da-b36a-490d7ff9bdd8"
      },
      "execution_count": null,
      "outputs": [
        {
          "output_type": "stream",
          "name": "stdout",
          "text": [
            "Parent class\n"
          ]
        }
      ]
    },
    {
      "cell_type": "markdown",
      "source": [
        "7. Polymorphism in OOP\n",
        "\n",
        "     Polymorphism allows the same method to have different behaviors based on the object using it.\n",
        "\n",
        "     Can be implemented via:\n",
        "\n",
        "     Method Overloading (not natively supported in Python).\n",
        "\n",
        "     Method Overriding (redefining a method in a subclass).\n",
        "\n",
        "     Example (Method Overriding):"
      ],
      "metadata": {
        "id": "WE8gfQTfESHj"
      }
    },
    {
      "cell_type": "code",
      "source": [
        "class Animal:\n",
        "    def speak(self):\n",
        "        return \"Some sound\"\n",
        "\n",
        "class Dog(Animal):\n",
        "    def speak(self):\n",
        "        return \"Bark\"\n",
        "\n",
        "a = Animal()\n",
        "d = Dog()\n",
        "print(a.speak())  # Output: Some sound\n",
        "print(d.speak())  # Output: Bark"
      ],
      "metadata": {
        "colab": {
          "base_uri": "https://localhost:8080/"
        },
        "id": "r2FCI3FqE_D_",
        "outputId": "958f1485-9f10-4d80-ae09-c3eca6da90fd"
      },
      "execution_count": null,
      "outputs": [
        {
          "output_type": "stream",
          "name": "stdout",
          "text": [
            "Some sound\n",
            "Bark\n"
          ]
        }
      ]
    },
    {
      "cell_type": "markdown",
      "source": [
        "8. Encapsulation in Python\n",
        "\n",
        "     Encapsulation protects object data by restricting access.\n",
        "Achieved using:\n",
        "\n",
        "   Public (name) → Accessible anywhere.\n",
        "\n",
        "   Protected (_name) → Accessible within class & subclasses.\n",
        "   \n",
        "   Private (__name) → Not directly accessible.\n",
        "Example:"
      ],
      "metadata": {
        "id": "pks-McsEFS_5"
      }
    },
    {
      "cell_type": "code",
      "source": [
        "class Example:\n",
        "    def __init__(self, value):\n",
        "        self.__private = value  # Private variable\n",
        "\n",
        "    def get_value(self):\n",
        "        return self.__private\n",
        "\n",
        "obj = Example(10)\n",
        "print(obj.get_value())  # Output: 10"
      ],
      "metadata": {
        "colab": {
          "base_uri": "https://localhost:8080/"
        },
        "id": "jPJ8lae6FyPA",
        "outputId": "01b41292-1720-4ab3-84fe-ea7d4fb0b611"
      },
      "execution_count": null,
      "outputs": [
        {
          "output_type": "stream",
          "name": "stdout",
          "text": [
            "10\n"
          ]
        }
      ]
    },
    {
      "cell_type": "markdown",
      "source": [
        "9. Constructor in Python\n",
        "The constructor in Python is __init__(), automatically called when an object is created.\n",
        "\n",
        "Example:"
      ],
      "metadata": {
        "id": "3oJk0sJCF_ZL"
      }
    },
    {
      "cell_type": "code",
      "source": [
        "class Car:\n",
        "    def __init__(self, brand, model):\n",
        "        self.brand = brand\n",
        "        self.model = model\n",
        "\n",
        "c = Car(\"Toyota\", \"Corolla\")\n",
        "print(c.brand)  # Output: Toyota"
      ],
      "metadata": {
        "colab": {
          "base_uri": "https://localhost:8080/"
        },
        "id": "5fgjQaDHGLuC",
        "outputId": "eda8339d-a6ff-40e1-8725-c73bf5a948bf"
      },
      "execution_count": null,
      "outputs": [
        {
          "output_type": "stream",
          "name": "stdout",
          "text": [
            "Toyota\n"
          ]
        }
      ]
    },
    {
      "cell_type": "markdown",
      "source": [
        "10. Class & Static Methods in Python?\n",
        "\n",
        "    - Method Overloading\n",
        "Class Method (@classmethod):\n",
        "Operates on the class level.\n",
        "Takes cls as the first argument.\n",
        "\n",
        " Static Method (@staticmethod):\n",
        "Does not modify class/instance attributes.\n",
        "Acts as a regular function within a class.\n",
        "\n",
        "Example:"
      ],
      "metadata": {
        "id": "AZWR-Ri_GW1E"
      }
    },
    {
      "cell_type": "code",
      "source": [
        "class Example:\n",
        "    class_var = \"Class Variable\"\n",
        "\n",
        "    @classmethod\n",
        "    def class_method(cls):\n",
        "        return cls.class_var\n",
        "\n",
        "    @staticmethod\n",
        "    def static_method():\n",
        "        return \"Static Method\"\n",
        "\n",
        "obj=Example()\n",
        "print(obj.class_method())  # Output: Class Variable\n",
        "print(obj.static_method())  # Output: Static Method"
      ],
      "metadata": {
        "colab": {
          "base_uri": "https://localhost:8080/"
        },
        "id": "8zVo2n9TG5n4",
        "outputId": "f2c36318-88ea-437e-ab65-5020cb4438ff"
      },
      "execution_count": null,
      "outputs": [
        {
          "output_type": "stream",
          "name": "stdout",
          "text": [
            "Class Variable\n",
            "Static Method\n"
          ]
        }
      ]
    },
    {
      "cell_type": "markdown",
      "source": [
        "11. Method Overloading:\n",
        "\n",
        "     - Python does not support true method overloading but allows default arguments.\n",
        "Example:"
      ],
      "metadata": {
        "id": "Z8nQAZ5zUavM"
      }
    },
    {
      "cell_type": "code",
      "source": [
        "class Example:\n",
        "    def show(self, a=None, b=None):\n",
        "        if a and b:\n",
        "            print(a, b)\n",
        "        elif a:\n",
        "            print(a)\n",
        "        else:\n",
        "            print(\"No arguments\")\n",
        "\n",
        "obj = Example()\n",
        "obj.show(10)  # Output: 10\n",
        "obj.show(10, 20)  # Output: 10 20"
      ],
      "metadata": {
        "colab": {
          "base_uri": "https://localhost:8080/"
        },
        "id": "2XiPTUCaUcc_",
        "outputId": "3f177596-5a62-4392-dff8-c616611a85be"
      },
      "execution_count": null,
      "outputs": [
        {
          "output_type": "stream",
          "name": "stdout",
          "text": [
            "10\n",
            "10 20\n"
          ]
        }
      ]
    },
    {
      "cell_type": "markdown",
      "source": [
        "12. Method Overriding in oops?\n",
        "\n",
        "  -    When a child class provides a specific implementation of a method from the parent class.\n",
        "  \n",
        "Example:"
      ],
      "metadata": {
        "id": "UMJVIWViU1Nu"
      }
    },
    {
      "cell_type": "code",
      "source": [
        "class Parent:\n",
        "    def greet(self):\n",
        "        print(\"Hello from Parent\")\n",
        "\n",
        "class Child(Parent):\n",
        "    def greet(self):\n",
        "        print(\"Hello from Child\")\n",
        "\n",
        "c = Child()\n",
        "c.greet()  # Output: Hello from Child"
      ],
      "metadata": {
        "colab": {
          "base_uri": "https://localhost:8080/"
        },
        "id": "_BYFQgebVMBA",
        "outputId": "cb239575-7349-4e6e-b747-32d6389024b3"
      },
      "execution_count": null,
      "outputs": [
        {
          "output_type": "stream",
          "name": "stdout",
          "text": [
            "Hello from Child\n"
          ]
        }
      ]
    },
    {
      "cell_type": "markdown",
      "source": [
        "13. Property Decorator in Python\n",
        "\n",
        "      - @property allows getter and setter methods without explicit function calls.\n",
        "\n",
        "Example:"
      ],
      "metadata": {
        "id": "o3EfXoFXVU4w"
      }
    },
    {
      "cell_type": "code",
      "source": [
        "class Temperature:\n",
        "    def __init__(self, celsius):\n",
        "        self._celsius = celsius\n",
        "\n",
        "    @property\n",
        "    def fahrenheit(self):\n",
        "        return (self._celsius * 9/5) + 32\n",
        "\n",
        "temp = Temperature(25)\n",
        "print(temp.fahrenheit)  # Output: 77.0"
      ],
      "metadata": {
        "colab": {
          "base_uri": "https://localhost:8080/"
        },
        "id": "9pk3fp56YffE",
        "outputId": "18c49849-facf-4c37-d5df-c9ca8c68101e"
      },
      "execution_count": null,
      "outputs": [
        {
          "output_type": "stream",
          "name": "stdout",
          "text": [
            "77.0\n"
          ]
        }
      ]
    },
    {
      "cell_type": "markdown",
      "source": [
        "14. Why is Polymorphism Important in OOP?\n",
        "\n",
        "   - Code Reusability: Common interfaces work with multiple data types.\n",
        "Flexibility: Single interface for multiple implementations.\n",
        "Extensibility: New behaviors can be added without modifying existing code.\n"
      ],
      "metadata": {
        "id": "X23bYl0lYtBa"
      }
    },
    {
      "cell_type": "markdown",
      "source": [
        "15. Abstract Class in Python\\\n",
        "\n",
        "     - An abstract class cannot be instantiated and contains at least one abstract method.\n",
        "Created using ABC (Abstract Base Class) module.\n",
        "\n",
        "Example:"
      ],
      "metadata": {
        "id": "CUqvVCvrY2io"
      }
    },
    {
      "cell_type": "code",
      "source": [
        "from abc import ABC, abstractmethod\n",
        "\n",
        "class Animal(ABC):\n",
        "    @abstractmethod\n",
        "    def sound(self):\n",
        "        pass\n",
        "\n",
        "class Dog(Animal):\n",
        "    def sound(self):\n",
        "        return \"Bark\"\n",
        "\n",
        "d = Dog()\n",
        "print(d.sound())  # Output: Bark"
      ],
      "metadata": {
        "colab": {
          "base_uri": "https://localhost:8080/"
        },
        "id": "iUUz-J24ZEEW",
        "outputId": "821c3ed0-f5db-4953-e7ee-3c86bb5e07c7"
      },
      "execution_count": null,
      "outputs": [
        {
          "output_type": "stream",
          "name": "stdout",
          "text": [
            "Bark\n"
          ]
        }
      ]
    },
    {
      "cell_type": "markdown",
      "source": [
        "16. Advantages of OOP\n",
        "\n",
        "   - Encapsulation: Data security.\n",
        "\n",
        "     Inheritance: Code reuse.\n",
        "\n",
        "     Polymorphism: Flexibility.\n",
        "\n",
        "     Abstraction: Reduced complexity.\n",
        "     \n",
        "     Modularity: Organized code."
      ],
      "metadata": {
        "id": "8yf78AFDZVyq"
      }
    },
    {
      "cell_type": "markdown",
      "source": [
        "17.Class Variable vs Instance Variable?\n",
        "\n",
        " - Multiple Inheritance:-\n",
        "Feature\tClass Variable\t, Instance Variable\n",
        "\n",
        " ** Scope:-\n",
        "  \n",
        "  \tfor class variable Shared among all instances,\n",
        "    \n",
        "     for Instance variable Unique to each instance\n",
        "\n",
        "  Accessed vi:-\n",
        "\n",
        "  for class variable ClassName.var or self.var\n",
        "\n",
        "  for instance variable\tOnly self.var\n",
        "\n",
        "  Modification:-\n",
        "  \n",
        "  for class variable Affects all instances,\n",
        "\n",
        "  for instance variable\tAffects only the instance\n"
      ],
      "metadata": {
        "id": "hszsLcmzZqk7"
      }
    },
    {
      "cell_type": "markdown",
      "source": [
        "18. What is multiple inheritance in Python?\n",
        "\n",
        "-   Multiple inheritance is a feature in Python where a class can inherit from more than one base class. This allows the derived class to acquire attributes and methods from multiple parent classes."
      ],
      "metadata": {
        "id": "pW5snT_2oeBy"
      }
    },
    {
      "cell_type": "code",
      "source": [
        "class A:\n",
        "    def method_a(self):\n",
        "        return \"Method A\"\n",
        "\n",
        "class B:\n",
        "    def method_b(self):\n",
        "        return \"Method B\"\n",
        "\n",
        "class C(A, B):\n",
        "    pass\n",
        "\n",
        "obj = C()\n",
        "print(obj.method_a())  # Output: Method A\n",
        "print(obj.method_b())  # Output: Method B\n"
      ],
      "metadata": {
        "colab": {
          "base_uri": "https://localhost:8080/"
        },
        "id": "XLj5daiHrQvg",
        "outputId": "fc7a78c5-9148-40ae-e131-9e22a5390d81"
      },
      "execution_count": 1,
      "outputs": [
        {
          "output_type": "stream",
          "name": "stdout",
          "text": [
            "Method A\n",
            "Method B\n"
          ]
        }
      ]
    },
    {
      "cell_type": "markdown",
      "source": [
        "19. Explain the purpose of __str__ and __repr__ methods in Python.\n",
        "\n",
        "-   __str__: Provides a human-readable string representation of an object. Used when calling str(obj) or print(obj).\n",
        "\n",
        "-   __repr__: Provides a detailed, unambiguous string representation (for debugging). Used when calling repr(obj)."
      ],
      "metadata": {
        "id": "iYpKsVWfrbgF"
      }
    },
    {
      "cell_type": "code",
      "source": [
        "class Person:\n",
        "    def __init__(self, name, age):\n",
        "        self.name = name\n",
        "        self.age = age\n",
        "\n",
        "    def __str__(self):\n",
        "        return f\"Person: {self.name}, {self.age}\"\n",
        "\n",
        "    def __repr__(self):\n",
        "        return f\"Person('{self.name}', {self.age})\"\n",
        "\n",
        "p = Person(\"Alice\", 30)\n",
        "print(str(p))  # Output: Person: Alice, 30\n",
        "print(repr(p)) # Output: Person('Alice', 30)\n"
      ],
      "metadata": {
        "colab": {
          "base_uri": "https://localhost:8080/"
        },
        "id": "YtY6Jf3arrWB",
        "outputId": "b2bfc461-61c2-4371-a3d7-747e8393b107"
      },
      "execution_count": 2,
      "outputs": [
        {
          "output_type": "stream",
          "name": "stdout",
          "text": [
            "Person: Alice, 30\n",
            "Person('Alice', 30)\n"
          ]
        }
      ]
    },
    {
      "cell_type": "markdown",
      "source": [],
      "metadata": {
        "id": "7XxlvFPZnwE8"
      }
    },
    {
      "cell_type": "markdown",
      "source": [
        "20. What is the significance of the super() function in Python?\n",
        "\n",
        "-    The super() function allows access to methods of a parent class, helping in method overriding and multiple inheritance."
      ],
      "metadata": {
        "id": "NWiixP8RsAqz"
      }
    },
    {
      "cell_type": "code",
      "source": [
        "class Parent:\n",
        "    def greet(self):\n",
        "        return \"Hello from Parent\"\n",
        "\n",
        "class Child(Parent):\n",
        "    def greet(self):\n",
        "        return super().greet() + \" and Child\"\n",
        "\n",
        "obj = Child()\n",
        "print(obj.greet())  # Output: Hello from Parent and Child"
      ],
      "metadata": {
        "colab": {
          "base_uri": "https://localhost:8080/"
        },
        "id": "whkuSAOm2aEJ",
        "outputId": "46e4c5b6-0f10-4daa-ec26-bb4446d6f460"
      },
      "execution_count": 3,
      "outputs": [
        {
          "output_type": "stream",
          "name": "stdout",
          "text": [
            "Hello from Parent and Child\n"
          ]
        }
      ]
    },
    {
      "cell_type": "markdown",
      "source": [
        "21. What is the significance of the __del__ method in Python?\n",
        "\n",
        "-  The __del__ method is a destructor, called when an object is about to be deleted or goes out of scope."
      ],
      "metadata": {
        "id": "ahG04IVP2iyl"
      }
    },
    {
      "cell_type": "code",
      "source": [
        "class Example:\n",
        "    def __del__(self):\n",
        "        print(\"Object deleted\")\n",
        "\n",
        "obj = Example()\n",
        "del obj  # Output: Object deleted\n"
      ],
      "metadata": {
        "colab": {
          "base_uri": "https://localhost:8080/"
        },
        "id": "faDVjS9y2nJG",
        "outputId": "4775332b-9a66-4538-f16f-afd6cdb23f3d"
      },
      "execution_count": 4,
      "outputs": [
        {
          "output_type": "stream",
          "name": "stdout",
          "text": [
            "Object deleted\n"
          ]
        }
      ]
    },
    {
      "cell_type": "markdown",
      "source": [
        "22. What is the difference between @staticmethod and @classmethod in Python?"
      ],
      "metadata": {
        "id": "7lYCz44R2qbi"
      }
    },
    {
      "cell_type": "code",
      "source": [
        "class Demo:\n",
        "    class_variable = \"Hello\"\n",
        "\n",
        "    @staticmethod\n",
        "    def static_method():\n",
        "        return \"Static Method\"\n",
        "\n",
        "    @classmethod\n",
        "    def class_method(cls):\n",
        "        return f\"Class Method: {cls.class_variable}\"\n",
        "\n",
        "print(Demo.static_method())  # Output: Static Method\n",
        "print(Demo.class_method())   # Output: Class Method: Hello\n"
      ],
      "metadata": {
        "colab": {
          "base_uri": "https://localhost:8080/"
        },
        "id": "l-D5cQ222wV9",
        "outputId": "0c9fb0ac-cf57-4bbc-ec81-8d02a1e40ca5"
      },
      "execution_count": 5,
      "outputs": [
        {
          "output_type": "stream",
          "name": "stdout",
          "text": [
            "Static Method\n",
            "Class Method: Hello\n"
          ]
        }
      ]
    },
    {
      "cell_type": "markdown",
      "source": [
        "23. How does polymorphism work in Python with inheritance?\n",
        "\n",
        "-  Polymorphism allows methods in different classes to have the same name but behave differently.\n",
        "\n",
        "Example:"
      ],
      "metadata": {
        "id": "8zbtKZMn2zzT"
      }
    },
    {
      "cell_type": "code",
      "source": [
        "class Animal:\n",
        "    def speak(self):\n",
        "        return \"Animal speaks\"\n",
        "\n",
        "class Dog(Animal):\n",
        "    def speak(self):\n",
        "        return \"Bark\"\n",
        "\n",
        "class Cat(Animal):\n",
        "    def speak(self):\n",
        "        return \"Meow\"\n",
        "\n",
        "animals = [Dog(), Cat()]\n",
        "\n",
        "for animal in animals:\n",
        "    print(animal.speak())  # Output: Bark, Meow"
      ],
      "metadata": {
        "colab": {
          "base_uri": "https://localhost:8080/"
        },
        "id": "vqXIoY7927vy",
        "outputId": "f3091397-b75f-4163-e2d8-6e400cb293c1"
      },
      "execution_count": 6,
      "outputs": [
        {
          "output_type": "stream",
          "name": "stdout",
          "text": [
            "Bark\n",
            "Meow\n"
          ]
        }
      ]
    },
    {
      "cell_type": "markdown",
      "source": [
        "24. What is method chaining in Python OOP?\n",
        "\n",
        "-  Method chaining allows multiple method calls on the same object in a single statement by returning self in each method."
      ],
      "metadata": {
        "id": "2T-Nqd1Q3AqF"
      }
    },
    {
      "cell_type": "code",
      "source": [
        "class Calculator:\n",
        "    def __init__(self, value=0):\n",
        "        self.value = value\n",
        "\n",
        "    def add(self, num):\n",
        "        self.value += num\n",
        "        return self  # Returning self allows chaining\n",
        "\n",
        "    def multiply(self, num):\n",
        "        self.value *= num\n",
        "        return self\n",
        "\n",
        "calc = Calculator()\n",
        "result = calc.add(5).multiply(2).value  # Chaining methods\n",
        "print(result)  # Output: 10\n"
      ],
      "metadata": {
        "colab": {
          "base_uri": "https://localhost:8080/"
        },
        "id": "xihIZL-23GLh",
        "outputId": "0186fa2b-2cb9-4117-e503-60045965664f"
      },
      "execution_count": 7,
      "outputs": [
        {
          "output_type": "stream",
          "name": "stdout",
          "text": [
            "10\n"
          ]
        }
      ]
    },
    {
      "cell_type": "markdown",
      "source": [
        "25. What is the purpose of the __call__ method in Python?\n",
        "\n",
        "-  The __call__ method allows an instance of a class to be called like a function."
      ],
      "metadata": {
        "id": "adUnnxPJ3LUh"
      }
    },
    {
      "cell_type": "code",
      "source": [
        "class Multiplier:\n",
        "    def __init__(self, factor):\n",
        "        self.factor = factor\n",
        "\n",
        "    def __call__(self, num):\n",
        "        return num * self.factor\n",
        "\n",
        "double = Multiplier(2)\n",
        "print(double(5))  # Output: 10\n"
      ],
      "metadata": {
        "colab": {
          "base_uri": "https://localhost:8080/"
        },
        "id": "nWSP0eA73Q9_",
        "outputId": "3536e922-3614-4a31-d408-8f80f146116e"
      },
      "execution_count": 8,
      "outputs": [
        {
          "output_type": "stream",
          "name": "stdout",
          "text": [
            "10\n"
          ]
        }
      ]
    },
    {
      "cell_type": "markdown",
      "source": [
        "# Practical Question"
      ],
      "metadata": {
        "id": "XcVmr0XEYV3L"
      }
    },
    {
      "cell_type": "markdown",
      "source": [
        "1. Create a parent class Animal with a method speak() that prints a generic message. Create a child class Dog\n",
        "that overrides the speak() method to print \"Bark!\"."
      ],
      "metadata": {
        "id": "vjfmUO3rx7KQ"
      }
    },
    {
      "cell_type": "code",
      "source": [
        "# 1. Parent class Animal with overridden method in Dog\n",
        "class Animal:\n",
        "    def speak(self):\n",
        "        print(\"Animal speaks\")\n",
        "\n",
        "class Dog(Animal):\n",
        "    def speak(self):\n",
        "        print(\"Bark!\")\n",
        "\n",
        "d = Dog()\n",
        "d.speak()\n"
      ],
      "metadata": {
        "colab": {
          "base_uri": "https://localhost:8080/"
        },
        "id": "brlhrxCVyHUU",
        "outputId": "18967e56-4836-4209-e532-6cf6950726ec"
      },
      "execution_count": 1,
      "outputs": [
        {
          "output_type": "stream",
          "name": "stdout",
          "text": [
            "Bark!\n"
          ]
        }
      ]
    },
    {
      "cell_type": "markdown",
      "source": [
        "2. Write a program to create an abstract class Shape with a method area(). Derive classes Circle and Rectangle\n",
        "from it and implement the area() method in both.\n"
      ],
      "metadata": {
        "id": "pVvF53d-y9eK"
      }
    },
    {
      "cell_type": "code",
      "source": [
        "# 2. Abstract class Shape with Circle and Rectangle subclasses\n",
        "from abc import ABC, abstractmethod\n",
        "\n",
        "class Shape(ABC):\n",
        "    @abstractmethod\n",
        "    def area(self):\n",
        "        pass\n",
        "\n",
        "class Circle(Shape):\n",
        "    def __init__(self, radius):\n",
        "        self.radius = radius\n",
        "    def area(self):\n",
        "        return 3.14 * self.radius * self.radius\n",
        "\n",
        "class Rectangle(Shape):\n",
        "    def __init__(self, width, height):\n",
        "        self.width = width\n",
        "        self.height = height\n",
        "    def area(self):\n",
        "        return self.width * self.height\n",
        "\n",
        "c = Circle(5)\n",
        "r = Rectangle(4, 6)\n",
        "print(c.area(), r.area())"
      ],
      "metadata": {
        "colab": {
          "base_uri": "https://localhost:8080/"
        },
        "id": "dnk6wjXvzOG-",
        "outputId": "6e0456de-cb84-4fb0-d3a3-1e5e6b88314f"
      },
      "execution_count": 2,
      "outputs": [
        {
          "output_type": "stream",
          "name": "stdout",
          "text": [
            "78.5 24\n"
          ]
        }
      ]
    },
    {
      "cell_type": "markdown",
      "source": [
        "3. Implement a multi-level inheritance scenario where a class Vehicle has an attribute type. Derive a class Car\n",
        "and further derive a class ElectricCar that adds a battery attribute."
      ],
      "metadata": {
        "id": "5Z4MWHRo00s0"
      }
    },
    {
      "cell_type": "code",
      "source": [
        "# 3. Multi-level inheritance with Vehicle, Car, and ElectricCar\n",
        "class Vehicle:\n",
        "    def __init__(self, type):\n",
        "        self.type = type\n",
        "\n",
        "class Car(Vehicle):\n",
        "    def __init__(self, type, brand):\n",
        "        super().__init__(type)\n",
        "        self.brand = brand\n",
        "\n",
        "class ElectricCar(Car):\n",
        "    def __init__(self, type, brand, battery):\n",
        "        super().__init__(type, brand)\n",
        "        self.battery = battery\n",
        "\n",
        "e_car = ElectricCar(\"Car\", \"Tesla\", \"100 kWh\")\n",
        "print(e_car.type, e_car.brand, e_car.battery)"
      ],
      "metadata": {
        "colab": {
          "base_uri": "https://localhost:8080/"
        },
        "id": "3Mf4gNZ-048i",
        "outputId": "54c1b0fb-c13c-4dd5-c4ec-10346b84ba6b"
      },
      "execution_count": 3,
      "outputs": [
        {
          "output_type": "stream",
          "name": "stdout",
          "text": [
            "Car Tesla 100 kWh\n"
          ]
        }
      ]
    },
    {
      "cell_type": "markdown",
      "source": [
        "4. Demonstrate polymorphism by creating a base class Bird with a method fly(). Create two derived classes\n",
        "Sparrow and Penguin that override the fly() method."
      ],
      "metadata": {
        "id": "6NDmDfPf1el1"
      }
    },
    {
      "cell_type": "code",
      "source": [
        "# 4. Polymorphism with Bird, Sparrow, and Penguin\n",
        "class Bird:\n",
        "    def fly(self):\n",
        "        print(\"Bird is flying\")\n",
        "\n",
        "class Sparrow(Bird):\n",
        "    def fly(self):\n",
        "        print(\"Sparrow flies high\")\n",
        "\n",
        "class Penguin(Bird):\n",
        "    def fly(self):\n",
        "        print(\"Penguins can't fly\")\n",
        "\n",
        "birds = [Sparrow(), Penguin()]\n",
        "for bird in birds:\n",
        "    bird.fly()"
      ],
      "metadata": {
        "colab": {
          "base_uri": "https://localhost:8080/"
        },
        "id": "I1z_FIPU1znn",
        "outputId": "38e7fafc-1da9-4911-a969-baba82b8fe65"
      },
      "execution_count": 4,
      "outputs": [
        {
          "output_type": "stream",
          "name": "stdout",
          "text": [
            "Sparrow flies high\n",
            "Penguins can't fly\n"
          ]
        }
      ]
    },
    {
      "cell_type": "markdown",
      "source": [
        "5. Write a program to demonstrate encapsulation by creating a class BankAccount with private attributes\n",
        "balance and methods to deposit, withdraw, and check balance."
      ],
      "metadata": {
        "id": "qLj6NObR2GQZ"
      }
    },
    {
      "cell_type": "code",
      "source": [
        " #5. Encapsulation in BankAccount\n",
        "class BankAccount:\n",
        "    def __init__(self, balance):\n",
        "        self.__balance = balance\n",
        "\n",
        "    def deposit(self, amount):\n",
        "        self.__balance += amount\n",
        "\n",
        "    def withdraw(self, amount):\n",
        "        if amount <= self.__balance:\n",
        "            self.__balance -= amount\n",
        "        else:\n",
        "            print(\"Insufficient funds\")\n",
        "\n",
        "    def check_balance(self):\n",
        "        return self.__balance\n",
        "\n",
        "acc = BankAccount(1000)\n",
        "acc.deposit(500)\n",
        "acc.withdraw(300)\n",
        "print(acc.check_balance())"
      ],
      "metadata": {
        "colab": {
          "base_uri": "https://localhost:8080/"
        },
        "id": "e5D-GGVH2tFc",
        "outputId": "b543b5a2-a9a0-48b5-8835-fb73aaa8653e"
      },
      "execution_count": 5,
      "outputs": [
        {
          "output_type": "stream",
          "name": "stdout",
          "text": [
            "1200\n"
          ]
        }
      ]
    },
    {
      "cell_type": "markdown",
      "source": [
        "6. Demonstrate runtime polymorphism using a method play() in a base class Instrument. Derive classes Guitar\n",
        "and Piano that implement their own version of play()."
      ],
      "metadata": {
        "id": "DEXKieSF3CTD"
      }
    },
    {
      "cell_type": "code",
      "source": [
        "# 6. Runtime polymorphism with Instrument, Guitar, and Piano\n",
        "class Instrument:\n",
        "    def play(self):\n",
        "        print(\"Playing instrument\")\n",
        "\n",
        "class Guitar(Instrument):\n",
        "    def play(self):\n",
        "        print(\"Playing guitar\")\n",
        "\n",
        "class Piano(Instrument):\n",
        "    def play(self):\n",
        "        print(\"Playing piano\")\n",
        "\n",
        "insts = [Guitar(), Piano()]\n",
        "for inst in insts:\n",
        "    inst.play()"
      ],
      "metadata": {
        "colab": {
          "base_uri": "https://localhost:8080/"
        },
        "id": "7Y1rmGZj3doh",
        "outputId": "ebfb5c26-8c65-4a91-9258-07ff2ce04d57"
      },
      "execution_count": 6,
      "outputs": [
        {
          "output_type": "stream",
          "name": "stdout",
          "text": [
            "Playing guitar\n",
            "Playing piano\n"
          ]
        }
      ]
    },
    {
      "cell_type": "markdown",
      "source": [
        "7. Create a class MathOperations with a class method add_numbers() to add two numbers and a static\n",
        "method subtract_numbers() to subtract two numbers."
      ],
      "metadata": {
        "id": "QiBL6Itm3nPQ"
      }
    },
    {
      "cell_type": "code",
      "source": [
        "# 7. MathOperations with class and static methods\n",
        "class MathOperations:\n",
        "    @classmethod\n",
        "    def add_numbers(cls, a, b):\n",
        "        return a + b\n",
        "\n",
        "    @staticmethod\n",
        "    def subtract_numbers(a, b):\n",
        "        return a - b\n",
        "\n",
        "print(MathOperations.add_numbers(5, 3))\n",
        "print(MathOperations.subtract_numbers(10, 4))"
      ],
      "metadata": {
        "colab": {
          "base_uri": "https://localhost:8080/"
        },
        "id": "xJz96C6q3u-E",
        "outputId": "a5419dda-0b8e-479e-8848-2fc133242fe9"
      },
      "execution_count": 7,
      "outputs": [
        {
          "output_type": "stream",
          "name": "stdout",
          "text": [
            "8\n",
            "6\n"
          ]
        }
      ]
    },
    {
      "cell_type": "markdown",
      "source": [
        "8. Implement a class Person with a class method to count the total number of persons created."
      ],
      "metadata": {
        "id": "6maMUZFO3-8f"
      }
    },
    {
      "cell_type": "code",
      "source": [
        "# 8. Person class with a counter for number of persons\n",
        "class Person:\n",
        "    count = 0\n",
        "\n",
        "    def __init__(self, name):\n",
        "        self.name = name\n",
        "        Person.count += 1\n",
        "\n",
        "p1 = Person(\"Alice\")\n",
        "p2 = Person(\"Bob\")\n",
        "print(\"Total persons:\", Person.count)"
      ],
      "metadata": {
        "colab": {
          "base_uri": "https://localhost:8080/"
        },
        "id": "zHm5lI9P4HoB",
        "outputId": "b414f423-be73-4a8a-911d-c63ad027e183"
      },
      "execution_count": 8,
      "outputs": [
        {
          "output_type": "stream",
          "name": "stdout",
          "text": [
            "Total persons: 2\n"
          ]
        }
      ]
    },
    {
      "cell_type": "markdown",
      "source": [
        "9. Write a class Fraction with attributes numerator and denominator. Override the str method to display the\n",
        "fraction as \"numerator/denominator\"."
      ],
      "metadata": {
        "id": "Gqo9t5af4VT3"
      }
    },
    {
      "cell_type": "code",
      "source": [
        "# 9. Fraction class with __str__ override\n",
        "class Fraction:\n",
        "    def __init__(self, numerator, denominator):\n",
        "        self.numerator = numerator\n",
        "        self.denominator = denominator\n",
        "\n",
        "    def __str__(self):\n",
        "        return f\"{self.numerator}/{self.denominator}\"\n",
        "\n",
        "frac = Fraction(3, 4)\n",
        "print(frac)"
      ],
      "metadata": {
        "colab": {
          "base_uri": "https://localhost:8080/"
        },
        "id": "Mn6yaKUE4eHa",
        "outputId": "f91118fd-22d6-4f11-92bc-9227a5dabfa1"
      },
      "execution_count": 9,
      "outputs": [
        {
          "output_type": "stream",
          "name": "stdout",
          "text": [
            "3/4\n"
          ]
        }
      ]
    },
    {
      "cell_type": "markdown",
      "source": [
        "10. Demonstrate operator overloading by creating a class Vector and overriding the add method to add two\n",
        "vectors."
      ],
      "metadata": {
        "id": "f2Jvwyx_4rLh"
      }
    },
    {
      "cell_type": "code",
      "source": [
        "# 10. Operator overloading with Vector addition\n",
        "class Vector:\n",
        "    def __init__(self, x, y):\n",
        "        self.x = x\n",
        "        self.y = y\n",
        "\n",
        "    def __add__(self, other):\n",
        "        return Vector(self.x + other.x, self.y + other.y)\n",
        "\n",
        "    def __str__(self):\n",
        "        return f\"Vector({self.x}, {self.y})\"\n",
        "\n",
        "v1 = Vector(2, 3)\n",
        "v2 = Vector(4, 5)\n",
        "print(v1 + v2)"
      ],
      "metadata": {
        "colab": {
          "base_uri": "https://localhost:8080/"
        },
        "id": "hqlHqPi4n4Py",
        "outputId": "0d9cbe1b-1449-4f61-ba9e-750067b94d29"
      },
      "execution_count": 1,
      "outputs": [
        {
          "output_type": "stream",
          "name": "stdout",
          "text": [
            "Vector(6, 8)\n"
          ]
        }
      ]
    },
    {
      "cell_type": "markdown",
      "source": [
        "11. Create a class Person with attributes name and age. Add a method greet() that prints \"Hello, my name is\n",
        "{name} and I am {age} years old.\""
      ],
      "metadata": {
        "id": "eK9k8wuOoAmH"
      }
    },
    {
      "cell_type": "code",
      "source": [
        "# 11. Person class with greet method\n",
        "class Person:\n",
        "    def __init__(self, name, age):\n",
        "        self.name = name\n",
        "        self.age = age\n",
        "\n",
        "    def greet(self):\n",
        "        print(f\"Hello, my name is {self.name} and I am {self.age} years old.\")\n",
        "\n",
        "p = Person(\"John\", 25)\n",
        "p.greet()"
      ],
      "metadata": {
        "colab": {
          "base_uri": "https://localhost:8080/"
        },
        "id": "ur3_PAbSoJPG",
        "outputId": "86f3907d-73e5-41a0-ebf1-7ecf16c43455"
      },
      "execution_count": 2,
      "outputs": [
        {
          "output_type": "stream",
          "name": "stdout",
          "text": [
            "Hello, my name is John and I am 25 years old.\n"
          ]
        }
      ]
    },
    {
      "cell_type": "markdown",
      "source": [
        "12. Implement a class Student with attributes name and grades. Create a method average_grade() to compute\n",
        "the average of the grades."
      ],
      "metadata": {
        "id": "DEqsymftoruJ"
      }
    },
    {
      "cell_type": "code",
      "source": [
        "# 12. Student class with average_grade method\n",
        "class Student:\n",
        "    def __init__(self, name, grades):\n",
        "        self.name = name\n",
        "        self.grades = grades\n",
        "\n",
        "    def average_grade(self):\n",
        "        return sum(self.grades) / len(self.grades)\n",
        "\n",
        "s = Student(\"Emma\", [85, 90, 78])\n",
        "print(s.average_grade())\n"
      ],
      "metadata": {
        "colab": {
          "base_uri": "https://localhost:8080/"
        },
        "id": "TF-y8kkHoXhF",
        "outputId": "9cfd1da7-6254-4797-abcc-37ab322ee595"
      },
      "execution_count": 3,
      "outputs": [
        {
          "output_type": "stream",
          "name": "stdout",
          "text": [
            "84.33333333333333\n"
          ]
        }
      ]
    },
    {
      "cell_type": "markdown",
      "source": [
        "13. Create a class Rectangle with methods set_dimensions() to set the dimensions and area() to calculate the\n",
        "area."
      ],
      "metadata": {
        "id": "IcEbgG0WouPM"
      }
    },
    {
      "cell_type": "code",
      "source": [
        "# 13. Rectangle class with area calculation\n",
        "class Rectangle:\n",
        "    def set_dimensions(self, width, height):\n",
        "        self.width = width\n",
        "        self.height = height\n",
        "\n",
        "    def area(self):\n",
        "        return self.width * self.height\n",
        "\n",
        "rect = Rectangle()\n",
        "rect.set_dimensions(4, 5)\n",
        "print(rect.area())\n"
      ],
      "metadata": {
        "colab": {
          "base_uri": "https://localhost:8080/"
        },
        "id": "uw9YqR8Lofng",
        "outputId": "e75575af-4a2e-4963-eb0c-a99c48fc148c"
      },
      "execution_count": 4,
      "outputs": [
        {
          "output_type": "stream",
          "name": "stdout",
          "text": [
            "20\n"
          ]
        }
      ]
    },
    {
      "cell_type": "markdown",
      "source": [
        "14. Create a class Employee with a method calculate_salary() that computes the salary based on hours worked\n",
        "and hourly rate. Create a derived class Manager that adds a bonus to the salary."
      ],
      "metadata": {
        "id": "exJv4WA-o1Jn"
      }
    },
    {
      "cell_type": "code",
      "source": [
        "# 14. Employee and Manager salary calculation\n",
        "class Employee:\n",
        "    def __init__(self, hours, rate):\n",
        "        self.hours = hours\n",
        "        self.rate = rate\n",
        "\n",
        "    def calculate_salary(self):\n",
        "        return self.hours * self.rate\n",
        "\n",
        "class Manager(Employee):\n",
        "    def __init__(self, hours, rate, bonus):\n",
        "        super().__init__(hours, rate)\n",
        "        self.bonus = bonus\n",
        "\n",
        "    def calculate_salary(self):\n",
        "        return super().calculate_salary() + self.bonus\n",
        "\n",
        "emp = Employee(40, 20)\n",
        "manager = Manager(40, 20, 500)\n",
        "print(emp.calculate_salary())  # Output: 800\n",
        "print(manager.calculate_salary())  # Output: 1300\n"
      ],
      "metadata": {
        "colab": {
          "base_uri": "https://localhost:8080/"
        },
        "id": "3aiS0Qx0oiW0",
        "outputId": "9d2def93-ba41-4008-ff04-6659707f4dcc"
      },
      "execution_count": 5,
      "outputs": [
        {
          "output_type": "stream",
          "name": "stdout",
          "text": [
            "800\n",
            "1300\n"
          ]
        }
      ]
    },
    {
      "cell_type": "markdown",
      "source": [
        "15. Create a class Product with attributes name, price, and quantity. Implement a method total_price() that\n",
        "calculates the total price of the product."
      ],
      "metadata": {
        "id": "i-T08dEMo9at"
      }
    },
    {
      "cell_type": "code",
      "source": [
        "class Product:\n",
        "    def __init__(self, name, price, quantity):\n",
        "        self.name = name\n",
        "        self.price = price\n",
        "        self.quantity = quantity\n",
        "\n",
        "    def total_price(self):\n",
        "        return self.price * self.quantity\n",
        "book1 = Product(\"The Alchemist\", 10.99, 3)\n",
        "print(book1.total_price())  # Output: 32.97"
      ],
      "metadata": {
        "colab": {
          "base_uri": "https://localhost:8080/"
        },
        "id": "lwgNwLlDqMoA",
        "outputId": "f2bf5255-ed9b-4e0a-ce54-84971e30b90f"
      },
      "execution_count": 6,
      "outputs": [
        {
          "output_type": "stream",
          "name": "stdout",
          "text": [
            "32.97\n"
          ]
        }
      ]
    },
    {
      "cell_type": "markdown",
      "source": [
        "16. Create a class Animal with an abstract method sound(). Create two derived classes Cow and Sheep that\n",
        "implement the sound() method."
      ],
      "metadata": {
        "id": "E-evpdTnqoy_"
      }
    },
    {
      "cell_type": "code",
      "source": [
        "class Animal:\n",
        "    def sound(self):\n",
        "        pass\n",
        "\n",
        "class cow(Animal):\n",
        "    def sound(self):\n",
        "        print(\"Moo\")\n",
        "class sheep(Animal):\n",
        "    def sound(self):\n",
        "        print(\"Baa\")\n",
        "\n",
        "a1=Animal()\n",
        "print(a1.sound())\n",
        "a2=cow()\n",
        "print(a2.sound())\n",
        "a3=sheep()\n",
        "print(a3.sound())"
      ],
      "metadata": {
        "colab": {
          "base_uri": "https://localhost:8080/"
        },
        "id": "TCjMT9ElqsnD",
        "outputId": "ffeb64de-9937-4ace-c24a-2b3e28f38729"
      },
      "execution_count": 9,
      "outputs": [
        {
          "output_type": "stream",
          "name": "stdout",
          "text": [
            "None\n",
            "Moo\n",
            "None\n",
            "Baa\n",
            "None\n"
          ]
        }
      ]
    },
    {
      "cell_type": "markdown",
      "source": [
        "17. Create a class Book with attributes title, author, and year_published. Add a method get_book_info() that\n",
        "returns a formatted string with the book's details."
      ],
      "metadata": {
        "id": "xnHn9O3w7p36"
      }
    },
    {
      "cell_type": "code",
      "source": [
        "class Book:\n",
        "    def __init__(self, title, author, year_published):\n",
        "        self.title = title\n",
        "        self.author = author\n",
        "        self.year_published = year_published\n",
        "\n",
        "    def get_book_info(self):\n",
        "        return f\"{self.title} by {self.author}, published in {self.year_published}.\"\n",
        "\n",
        "book1=Book(\"The Alchemist\",\"Paulo Coelho\",1988)\n",
        "print(book1.get_book_info())"
      ],
      "metadata": {
        "colab": {
          "base_uri": "https://localhost:8080/"
        },
        "id": "9aG9_Bgp7vQR",
        "outputId": "4915ca91-6605-47e0-8abf-ed3c24b42551"
      },
      "execution_count": 10,
      "outputs": [
        {
          "output_type": "stream",
          "name": "stdout",
          "text": [
            "The Alchemist by Paulo Coelho, published in 1988.\n"
          ]
        }
      ]
    },
    {
      "cell_type": "markdown",
      "source": [
        "18. Create a class House with attributes address and price. Create a derived class Mansion that adds an\n",
        "attribute number_of_rooms."
      ],
      "metadata": {
        "id": "2RGqv1rs7766"
      }
    },
    {
      "cell_type": "code",
      "source": [
        "class House:\n",
        "    def __init__(self, address, price):\n",
        "        self.address = address\n",
        "        self.price = price\n",
        "\n",
        "\n",
        "class Mansion(House):\n",
        "    def __init__(self, address, price, number_of_rooms):\n",
        "        super().__init__(address, price)\n",
        "        self.number_of_rooms = number_of_rooms\n",
        "h1=House(\"123 Main St\",1000000)\n",
        "print(h1.address,h1.price)"
      ],
      "metadata": {
        "colab": {
          "base_uri": "https://localhost:8080/"
        },
        "id": "DVW0hbYa8As0",
        "outputId": "ffb6323e-024f-4088-84e1-c9c9352d84c8"
      },
      "execution_count": 11,
      "outputs": [
        {
          "output_type": "stream",
          "name": "stdout",
          "text": [
            "123 Main St 1000000\n"
          ]
        }
      ]
    }
  ]
}